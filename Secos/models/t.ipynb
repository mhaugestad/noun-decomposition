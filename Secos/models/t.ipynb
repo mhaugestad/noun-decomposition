{
 "cells": [
  {
   "cell_type": "code",
   "execution_count": 28,
   "metadata": {},
   "outputs": [],
   "source": [
    "import pickle\n",
    "from gensim.models import Word2Vec\n",
    "from gensim.models import KeyedVectors\n",
    "from itertools import chain"
   ]
  },
  {
   "cell_type": "code",
   "execution_count": 2,
   "metadata": {},
   "outputs": [],
   "source": [
    "with open('./wikipedia_de_tokenized_clean_w2v_skip_w5_n5_s500.dt.cand', 'r') as f:\n",
    "    model = f.read().split('\\n')"
   ]
  },
  {
   "cell_type": "code",
   "execution_count": 16,
   "metadata": {},
   "outputs": [],
   "source": [
    "w2v_model = KeyedVectors.load_word2vec_format('./model.bin', binary=True)"
   ]
  },
  {
   "cell_type": "code",
   "execution_count": 24,
   "metadata": {},
   "outputs": [],
   "source": [
    "cands = list(map(lambda x: x[0], w2v_model.similar_by_word('bundesfinanzministerium', 200)))"
   ]
  },
  {
   "cell_type": "code",
   "execution_count": 41,
   "metadata": {},
   "outputs": [
    {
     "ename": "NameError",
     "evalue": "name 'w' is not defined",
     "output_type": "error",
     "traceback": [
      "\u001b[0;31m---------------------------------------------------------------------------\u001b[0m",
      "\u001b[0;31mNameError\u001b[0m                                 Traceback (most recent call last)",
      "\u001b[0;32m<ipython-input-41-87bade033d63>\u001b[0m in \u001b[0;36m<module>\u001b[0;34m\u001b[0m\n\u001b[0;32m----> 1\u001b[0;31m \u001b[0mext_cands\u001b[0m \u001b[0;34m=\u001b[0m \u001b[0;34m[\u001b[0m\u001b[0mx\u001b[0m \u001b[0;32mfor\u001b[0m \u001b[0mw\u001b[0m \u001b[0;32min\u001b[0m \u001b[0mlist\u001b[0m\u001b[0;34m(\u001b[0m\u001b[0mmap\u001b[0m\u001b[0;34m(\u001b[0m\u001b[0;32mlambda\u001b[0m \u001b[0mx\u001b[0m\u001b[0;34m:\u001b[0m \u001b[0mx\u001b[0m\u001b[0;34m[\u001b[0m\u001b[0;36m0\u001b[0m\u001b[0;34m]\u001b[0m\u001b[0;34m,\u001b[0m \u001b[0mw2v_model\u001b[0m\u001b[0;34m.\u001b[0m\u001b[0msimilar_by_word\u001b[0m\u001b[0;34m(\u001b[0m\u001b[0mw\u001b[0m\u001b[0;34m,\u001b[0m \u001b[0;36m200\u001b[0m\u001b[0;34m)\u001b[0m\u001b[0;34m)\u001b[0m\u001b[0;34m)\u001b[0m \u001b[0;32mfor\u001b[0m \u001b[0mw\u001b[0m \u001b[0;32min\u001b[0m \u001b[0mx\u001b[0m\u001b[0;34m]\u001b[0m\u001b[0;34m\u001b[0m\u001b[0;34m\u001b[0m\u001b[0m\n\u001b[0m",
      "\u001b[0;31mNameError\u001b[0m: name 'w' is not defined"
     ]
    }
   ],
   "source": [
    "ext_cands = set(map(lambda x: x[0], w2v_model.similar_by_word(w, 200)))"
   ]
  },
  {
   "cell_type": "code",
   "execution_count": 51,
   "metadata": {},
   "outputs": [
    {
     "data": {
      "text/plain": [
       "0.5707461"
      ]
     },
     "execution_count": 51,
     "metadata": {},
     "output_type": "execute_result"
    }
   ],
   "source": [
    "w2v_model.similarity('minister', 'bundesfinanzministerium')"
   ]
  },
  {
   "cell_type": "code",
   "execution_count": 50,
   "metadata": {},
   "outputs": [
    {
     "data": {
      "text/plain": [
       "0.64381665"
      ]
     },
     "execution_count": 50,
     "metadata": {},
     "output_type": "execute_result"
    }
   ],
   "source": [
    "w2v_model.similarity('ministerium', 'bundesfinanzministerium')"
   ]
  },
  {
   "cell_type": "code",
   "execution_count": null,
   "metadata": {},
   "outputs": [],
   "source": []
  },
  {
   "cell_type": "code",
   "execution_count": 15,
   "metadata": {},
   "outputs": [
    {
     "data": {
      "text/plain": [
       "[('ezb', 0.8557928800582886),\n",
       " ('bafin', 0.8416852355003357),\n",
       " ('zentralbank', 0.8363973498344421),\n",
       " ('notenbank', 0.8358752131462097),\n",
       " ('soffin', 0.8342881202697754),\n",
       " ('finanzagentur', 0.8187493681907654),\n",
       " ('bankenaufsicht', 0.8139035701751709),\n",
       " ('fondsbranche', 0.8085185885429382),\n",
       " ('bankenverband', 0.8064036965370178),\n",
       " ('goldreserven', 0.8043740391731262),\n",
       " ('kreditwirtschaft', 0.8037261366844177),\n",
       " ('bundesfinanzministerium', 0.802176296710968),\n",
       " ('target-salden', 0.8016773462295532),\n",
       " ('euro-zone', 0.8015007972717285),\n",
       " ('westlb', 0.7980020642280579),\n",
       " ('notenbanken', 0.7978516221046448),\n",
       " ('ikb-bank', 0.7974047064781189),\n",
       " ('landesbanken', 0.7973929047584534),\n",
       " ('geldhäuser', 0.7948922514915466),\n",
       " ('iwf', 0.7947107553482056),\n",
       " ('eurosystem', 0.7933549284934998),\n",
       " ('target-forderungen', 0.7930230498313904),\n",
       " ('dz-bank', 0.7904558777809143),\n",
       " ('nationalbank', 0.7896112203598022),\n",
       " ('eurozone', 0.7894156575202942),\n",
       " ('goldbestände', 0.7893821001052856),\n",
       " ('finanzaufsicht', 0.7866823673248291),\n",
       " ('bankeinlagen', 0.7861717939376831),\n",
       " ('bilanzregeln', 0.7852147221565247),\n",
       " ('euro-raum', 0.7851989269256592),\n",
       " ('us-notenbank', 0.7850501537322998),\n",
       " ('target2-salden', 0.7844846844673157),\n",
       " ('finanzstabilitätsbericht', 0.7843677997589111),\n",
       " ('eurohypo', 0.7843269109725952),\n",
       " ('zentralbankrat', 0.7840917706489563),\n",
       " ('landesbank', 0.7837302684783936),\n",
       " ('zentralbanken', 0.7836792469024658),\n",
       " ('efsf', 0.7836580872535706),\n",
       " ('bankenrettungsfonds', 0.7832700610160828),\n",
       " ('schrottpapiere', 0.7823033332824707),\n",
       " ('hyporealestate', 0.7812748551368713),\n",
       " ('laiki-bank', 0.7806314826011658),\n",
       " ('spareinlagen', 0.7805407643318176),\n",
       " ('zinspolitik', 0.7801100015640259),\n",
       " ('sparern', 0.7799042463302612),\n",
       " ('milliardenrisiken', 0.7797690033912659),\n",
       " ('oenb', 0.7796590924263),\n",
       " ('banken', 0.7787200808525085),\n",
       " ('sparer', 0.7785026431083679),\n",
       " ('teilverstaatlichten', 0.7776360511779785),\n",
       " ('auslandsbanken', 0.7774055600166321),\n",
       " ('großbanken', 0.7773410677909851),\n",
       " ('portigon', 0.7768233418464661),\n",
       " ('ikb', 0.7754519581794739),\n",
       " ('blitz-stresstest', 0.7751318216323853),\n",
       " ('kundeneinlagen', 0.7750229835510254),\n",
       " ('strafzins', 0.7746404409408569),\n",
       " ('zinsaffäre', 0.7743305563926697),\n",
       " ('kapitalmarkt', 0.7743046879768372),\n",
       " ('geschäftsbanken', 0.773703932762146),\n",
       " ('pleite-bank', 0.7734715938568115),\n",
       " ('smp-programm', 0.7733169198036194),\n",
       " ('ezb-system', 0.7725563645362854),\n",
       " ('börsen-turbulenzen', 0.7723767161369324),\n",
       " ('commerzbank', 0.772346556186676),\n",
       " ('mittelstandsbank', 0.7721015214920044),\n",
       " ('währungsreserven', 0.7718876004219055),\n",
       " ('mittelstandskredite', 0.770977795124054),\n",
       " ('einlagengarantie', 0.7704263925552368),\n",
       " ('niedrigzinspolitik', 0.770328164100647),\n",
       " ('finanzmarktstabilisierungsfonds', 0.769658625125885),\n",
       " ('liquiditätshilfen', 0.7695723176002502),\n",
       " ('staatsfinanzierer', 0.7695607542991638),\n",
       " ('privatbanken', 0.7694761753082275),\n",
       " ('giftpapiere', 0.7694464921951294),\n",
       " ('bank-chef', 0.7693695425987244),\n",
       " ('target-kredite', 0.7690961360931396),\n",
       " ('ezb-stresstest', 0.76902174949646),\n",
       " ('ex-im', 0.7688197493553162),\n",
       " ('notkredite', 0.7682384848594666),\n",
       " ('bundesbank-präsident', 0.7681527137756348),\n",
       " ('rettungsfonds', 0.7678740620613098),\n",
       " ('bad-bank', 0.7678190469741821),\n",
       " ('griechenland-anleihen', 0.767177164554596),\n",
       " ('target-2-salden', 0.7670657634735107),\n",
       " ('anleihenkauf', 0.7668727040290833),\n",
       " ('us-banken', 0.7667855024337769),\n",
       " ('währungsfonds', 0.7663393616676331),\n",
       " ('zahlungsausgleich', 0.7661900520324707),\n",
       " ('zinsskandal', 0.7661283612251282),\n",
       " ('gr-anleihen', 0.7661014795303345),\n",
       " ('dsgv', 0.7658708095550537),\n",
       " ('ezb-aufsicht', 0.7658151984214783),\n",
       " ('schiffskredite', 0.7656365036964417),\n",
       " ('kapitallücke', 0.765399158000946),\n",
       " ('ela-notkredite', 0.7650268077850342),\n",
       " ('euro-systems', 0.7649447321891785),\n",
       " ('griechenland-rettung', 0.7647348642349243),\n",
       " ('anleihenprogramm', 0.7646117210388184),\n",
       " ('anleihe-investoren', 0.764174222946167),\n",
       " ('euro-rettungsfonds', 0.7639784812927246),\n",
       " ('einlagensicherung', 0.7639276385307312),\n",
       " ('geldeinlagen', 0.7638789415359497),\n",
       " ('deka-bank', 0.7638258934020996),\n",
       " ('zypern-krise', 0.7637431025505066),\n",
       " ('kreditbündel', 0.763455331325531),\n",
       " ('bankkunden', 0.7630587220191956),\n",
       " ('auslandsposition', 0.7630455493927002),\n",
       " ('lbbw', 0.7625643610954285),\n",
       " ('euro-zentralbank', 0.7624623775482178),\n",
       " ('aktieninstituts', 0.762319803237915),\n",
       " ('inflationsgefahr', 0.7619752883911133),\n",
       " ('euro-krise', 0.7618218064308167),\n",
       " ('staatsanleihen', 0.7618025541305542),\n",
       " ('euroraum', 0.7617343068122864),\n",
       " ('target2-forderungen', 0.7616665959358215),\n",
       " ('nordbank', 0.761522114276886),\n",
       " ('banken-rettungsfonds', 0.7613874673843384),\n",
       " ('bundesbankpräsident', 0.7608584761619568),\n",
       " ('industriebank', 0.760854959487915),\n",
       " ('us-zentralbank', 0.7606672048568726),\n",
       " ('övag', 0.760565459728241),\n",
       " ('ela-kredite', 0.7605635523796082),\n",
       " ('schuldenkrise', 0.7604528665542603),\n",
       " ('bundesrechnungshof', 0.7599871158599854),\n",
       " ('bankenaufseher', 0.7591817378997803),\n",
       " ('negativzins', 0.7591359615325928),\n",
       " ('ezb-entscheidungen', 0.7591228485107422),\n",
       " ('helaba', 0.7590572237968445),\n",
       " ('privatisierungsfonds', 0.7585911154747009),\n",
       " ('zypern-deal', 0.7585881352424622),\n",
       " ('griechenland-schuldenschnitt', 0.7580503225326538),\n",
       " ('nullzinspolitik', 0.7579550743103027),\n",
       " ('geldinstitute', 0.7575621008872986),\n",
       " ('bankenstresstest', 0.7575125098228455),\n",
       " ('einlagefazilität', 0.7571335434913635),\n",
       " ('bayernlb', 0.7571045160293579),\n",
       " ('euro-rettung', 0.7569078803062439),\n",
       " ('bundesbank-vorstand', 0.756109356880188),\n",
       " ('ezb-kredite', 0.7560952305793762),\n",
       " ('euro-banken', 0.7557126879692078),\n",
       " ('ezb-politik', 0.7555667161941528),\n",
       " ('strafzinsen', 0.755551278591156),\n",
       " ('finanzdienstleistungsaufsicht', 0.7553920149803162),\n",
       " ('versicherungswirtschaft', 0.7553547620773315),\n",
       " ('vorstandsgehälter', 0.7551672458648682),\n",
       " ('schuldenstaaten', 0.754899799823761),\n",
       " ('kreditfähigkeit', 0.7548817992210388),\n",
       " ('schuldentausch', 0.754679799079895),\n",
       " ('bilanzprüfung', 0.7546352744102478),\n",
       " ('finanzmarktstabilisierung', 0.7543729543685913),\n",
       " ('minuszinsen', 0.7540609836578369),\n",
       " ('bankendie', 0.7539547085762024),\n",
       " ('bilanztricksereien', 0.7538902163505554),\n",
       " ('derivatgeschäfte', 0.7537798285484314),\n",
       " ('wertpapiermitteilung', 0.7536710500717163),\n",
       " ('lehman-pleite', 0.7536433935165405),\n",
       " ('bilanzrisiken', 0.7533161640167236),\n",
       " ('abschreibungsbedarf', 0.7532148361206055),\n",
       " ('depfa', 0.7530995607376099),\n",
       " ('bundesbankchef', 0.7529879808425903),\n",
       " ('eu-bankenaufsicht', 0.7525990605354309),\n",
       " ('geldhaus', 0.7525701522827148),\n",
       " ('ezb-bankenaufsicht', 0.7525380849838257),\n",
       " ('derivatgeschäften', 0.7524685263633728),\n",
       " ('sparguthaben', 0.7523176670074463),\n",
       " ('kundendepots', 0.7522967457771301),\n",
       " ('währungshüter', 0.7522961497306824),\n",
       " ('anleihenkäufe', 0.7522659301757812),\n",
       " ('ratingnote', 0.7521922588348389),\n",
       " ('bankensanierung', 0.7521579265594482),\n",
       " ('griechen-bonds', 0.7520108819007874),\n",
       " ('bankenpleiten', 0.7519108057022095),\n",
       " ('westlb-nachfolger', 0.7516209483146667),\n",
       " ('überschussliquidität', 0.7514210343360901),\n",
       " ('bankenabgabe', 0.7513109445571899),\n",
       " ('finanzpresse', 0.7512466907501221),\n",
       " ('bankenpräsident', 0.7511913180351257),\n",
       " ('schuldenmanagement', 0.7511313557624817),\n",
       " ('geldhäusern', 0.7509832978248596),\n",
       " ('griechenland-hilfen', 0.7509195804595947),\n",
       " ('mindestreserven', 0.7507472634315491),\n",
       " ('postbank-übernahme', 0.7507063150405884),\n",
       " ('staatsanleihenkäufe', 0.7505970597267151),\n",
       " ('bank-guthaben', 0.7505064606666565),\n",
       " ('bundeswertpapieren', 0.7504999041557312),\n",
       " ('bank-kunden', 0.750469982624054),\n",
       " ('milliarden-risiken', 0.750296413898468),\n",
       " ('dekabank', 0.7501611113548279),\n",
       " ('negativ-zinsen', 0.7500348091125488),\n",
       " ('libor-ermittlungen', 0.7498509287834167),\n",
       " ('bankbilanz', 0.7497175335884094),\n",
       " ('staatshilfen', 0.7496849298477173),\n",
       " ('anleihekäufe', 0.7496811151504517),\n",
       " ('ezb-', 0.7495633959770203),\n",
       " ('anlegerschützer', 0.7494960427284241),\n",
       " ('schuldenschnitt', 0.7494727373123169),\n",
       " ('bankenhilfen', 0.7491181492805481),\n",
       " ('kreditinstituten', 0.7489930391311646),\n",
       " ('nullzinsen', 0.7489107847213745)]"
      ]
     },
     "execution_count": 15,
     "metadata": {},
     "output_type": "execute_result"
    }
   ],
   "source": [
    "wv_from_bin.similar_by_word('bundesbank', 200)"
   ]
  },
  {
   "cell_type": "code",
   "execution_count": 12,
   "metadata": {},
   "outputs": [
    {
     "data": {
      "text/plain": [
       "bytes"
      ]
     },
     "execution_count": 12,
     "metadata": {},
     "output_type": "execute_result"
    }
   ],
   "source": [
    "type(model)"
   ]
  },
  {
   "cell_type": "code",
   "execution_count": 14,
   "metadata": {},
   "outputs": [
    {
     "data": {
      "text/plain": [
       "b'608130 300\\nDie \\xe3\\x86t=\\xf5S\\xc8\\xbd\\xa8\\xd0H>\\xeb\\xae\\'>\\xdd;o>c^\\xcf=\\xdca\">}\\xf8\\x0e\\xbe\\x04\\xc8\\xd2=\\x03\\x8f\\x0e>nB\\x9b=S\\xcf/;,\\x96\\x91<kt\\xac=D\\xdf\\xdd\\xbc\\xa28\\x8f\\xbd\\xd2\\x84\\x8c\\xbe<\\x99\\n>h28?\\x0c\\x9c\\x05\\xbeGQ\\x11\\xbd\\x93\\x90\\x18\\xbe\\x81\\xe14>8\\xfc\\x1b\\xbds\\x16\\x03\\xbd\\xfa\\xbf\\xb6\\xbd\\x9c\\x98\\x87=\\xb4\\t\\x1f>\\xed\\xc0\\x08>\\xd1\\xd6\\xc2=w\\x98\\t>\\xd0M[<;\\x17\\xbe\\xbc\\x8c\\xfb\\xa3\\xbd-\\xd9=\\xbe\\'\\xb7\\xd8\\xbd\\xa0\\x8f[\\xbe\\x00\\x17,\\xbe\\'R\\x82\\xbd\\x0e\\xb5\\xb8>\\xbf\\x15&>{\\xb8\\x1d>\\xf3\\xdd\\\\>\\x8e\\xe7\\x02;\\xc01\\x1a\\xbe\\xda\\xf5*\\xbe\\x90\\x97\\xe0<\\x08\\xb5\\xeb=\\x9b\\x9a!>U\\x7f\\xb4\\xbdy1\\xe4=\\x0f\\xa1\\xd7=\\x18\\xeeA\\xbeW\\x8f\\x8f\\xbd\\xd51J\\xbd\\x94\\xa8O\\xbe\\xab\\x1eD\\xbe\\xf8\\x06\\x87\\xbd3\\x06\\xf7\\xbd\\xb0\\x9a\\xf1>\\x94\\xe0\\xa5=\\xfd\\x146=\\xe3W\\xcb\\xbd\\xdb\\xbf\\x11\\xbe\\r\\x1d\\xd7<\\xf0\\xe0\\x12>\\xa6\\x14\\xb9=\\x136\\xe7;\\x99\\xbf\\xb3=\\x88\\xbc\\xa4>\\x1fF\\xa0\\xbeb\\x83\\xc3<\\xdf5\\xf6\\xbd\\xd2$1>\\xf5\\xf3\\x85<v\\x0f\\xa9\\xbd\\x15H\\x8c\\xbeCFk>\\xc3\\xd3\\x90;\\xe2\\xf0/\\xbe\\xec\\x1b\\xb7\\xbe\\xf8\\xac\\x8d\\xbe_Y5\\xba\\r\\x93W\\xbe\\xfdE\\xf3=\\x92\\x1c\\xf4<\\x02_c=\\x960\\xe2\\xbc\\xda6y\\xbel\\xec\\xc7\\xbb\\xed<\\x17>\\xc86\\x0e>\\xe4\\xfc5>\\x9f\\xa2$\\xbd,|\\'\\xbdk\\x8c\\x84>\\x9c\\xbd\\xa6>M\\r\\x81\\xbe\\x99\\x01\\xb7\\xbevLn=\\xcc\\xec\\xb6>BxN;Lm\\xea\\xbd&b\\xc2=\\xc2\\xcd\\x95\\xbbnu\\xa6>\\x90\\xfc\\xf6\\xbc\\xff\\xfbA\\xbe\\x98#\\x1a\\xbd\\x8f\\x1d\\x90\\xbd\\xf3\\xec\\x85\\xbd\\x1f\\xe3Z\\xbd\\x8f`\\x99;\\xce\\x86\\x89<\\xe6\\x03\\\\>r\\xbbq\\xbd\\x1a\\x1c<\\xbd\\xf1\\xb12\\xbc\\x90$f\\xbc\\xac+\\x87>d\\x01\\xc6\\xbe6\\xda\"=\\xc3y\\x17>3N}\\xbe\\n\\x80\\x93<9\\n/>\\xb7\\xed\\xf6\\xbdb*\\x82=\\xf2\\xa2\\x8d>\\x939\\x8c\\xbez\\xe8\\xb0<\\x88\\x8b\\xc2=\\xff\\xf2(\\xbd6D\\\\\\xbd\\xff=\\x98={\\x87)=\\x15Z\\xc3=^0-=\\x98\\xcbW>\\xafO\\xca\\xbd\\xd1\\xcd)\\xbe\\xbb\\xf8\\xc9\\xbd70\\xdc>\\xc1\\x89\\xee\\xba\\xe6S|\\xbe\\xbf\\xae\\x17\\xbeyC5\\xbe\\x01%\\xf3=\\x15\\xbf\">\\xb0R\\n>\\xbd\\xf7\\xcd\\xbc5\\xe1\\xf1\\xbb\\xa3\\xf8\\x84>\\xa5\\x1a\\x0f\\xbe\\xd9c\\x86>t\\x8a\\xb4\\xbd&V\\xea<\\xdb-\\x9d\\xbd\\xe3v\\'\\xbei\\xb4\\x82=\\xb0\\xb9\\xbd\\xbdM\\xb8\\xf6\\xbd\\xef\\x86\\xa8\\xbcn\\xeb\\xd1\\xbd\\x88\\xa3\\x1f\\xbea\\xeb\\xd4<A\\xe5\\x06\\xbeXu\\xac=*#0\\xbe&\\x896\\xbe{A\\x01\\xbek\\x9d\\x88>?R\\xb5<(I\\x00\\xbe\\x814\\x1a>&S\">\\xbaSd\\xbe\\x0b\\xdf^=\\xc5/\\xaa\\xbd\\x03\\x9c\\xea=\\xe9\\x12\\x16>o\\xd5\\xbf<\\xd9h6=\\xfeY\\x06>\\xb3\\xa9<\\xbd\\xcf\\x848=a\\x8a\\x02=\\x15E0\\xbd\\xd8\\xb6\\x87\\xbd\\xeedk\\xbb\\'\\xc5\\xa5\\xbcS\\xff3\\xbe\\xf4\\x9ev>]H\\x02\\xbe\\xfbE\\x00<\\x90\\x13\\x92\\xbd\\xed!\\xb0=4O\\x89\\xbdu\\xb6;=\\x10\\x08\\x91=\\xb4\\xe2&>T\\xd3\\x88=\\xb8\\x9a\\xa8>\\x93=Z\\xba\\x91*b\\xbd\\xd3x\\x99=\\xa3U\\t\\xbe5.\\xcf<\\xd4\\xbb\\x81\\xbeon\\xa4=\\xf5\\xfbd\\xbe\\xef/ >B.\\xa7=#C\\xa5<\\x10\\xfc\\x8a\\xbeI\\xc4\\x13\\xbe\\r\\x05\\x1e>4\\x1c\\xf7<9\\x12\\x99\\xbc\\xf1\\xfc\\x11>\\x95\\x83\\xc7\\xbcP\\xb1\\x8b\\xbe\\x84\\xfe\\x8d;/\\x02\\x82\\xbeQ\\xabG\\xbe\\'\\xc5\\xb6=M\\xe3\\xe8>\\xdf\\x81H\\xbe\\xe7af\\xbc\\x1e\\x88\\xeb>\\xe7L\\x07>0\\xf6\\x8f\\xbd\\x82\\xa7\\x9e\\xbe7qo<\\xbd\\xa0\\x00>\\xdb\\x9c\\xfb=\\x08\\xa0c>\\x1a.<\\xbd?\\xf2\\x1d\\xbe\\xf0|\\x94\\xbe?\\xcb\\x0b>_\\x021\\xbe\\x97\\xa7\\xdf\\xbd\\xb97\\xd2=1t1=\\xf9\\xa2\\x9b=\\xf7'"
      ]
     },
     "execution_count": 14,
     "metadata": {},
     "output_type": "execute_result"
    }
   ],
   "source": [
    "model[0:1000]"
   ]
  }
 ],
 "metadata": {
  "kernelspec": {
   "display_name": "Python 3.8.5 ('base')",
   "language": "python",
   "name": "python3"
  },
  "language_info": {
   "codemirror_mode": {
    "name": "ipython",
    "version": 3
   },
   "file_extension": ".py",
   "mimetype": "text/x-python",
   "name": "python",
   "nbconvert_exporter": "python",
   "pygments_lexer": "ipython3",
   "version": "3.8.5"
  },
  "orig_nbformat": 4,
  "vscode": {
   "interpreter": {
    "hash": "ff4d151e5aa95e1153eb3b13a0b3af920f4d3e459b90b93576523291a566331d"
   }
  }
 },
 "nbformat": 4,
 "nbformat_minor": 2
}
