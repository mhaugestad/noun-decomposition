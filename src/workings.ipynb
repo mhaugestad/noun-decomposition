{
 "cells": [
  {
   "cell_type": "code",
   "execution_count": 1,
   "metadata": {},
   "outputs": [],
   "source": [
    "import re\n",
    "from models import Term, Suffix, Prefix, get_candidates, Word, Candidates, get_next\n",
    "import typing as t\n",
    "from itertools import groupby"
   ]
  },
  {
   "cell_type": "code",
   "execution_count": 2,
   "metadata": {},
   "outputs": [],
   "source": [
    "word = 'bundesfinanzministerium'"
   ]
  },
  {
   "cell_type": "code",
   "execution_count": 3,
   "metadata": {},
   "outputs": [],
   "source": [
    "wl = dict(zip(['finanzministerium', 'finanz', 'ministerium', 'bunde', 'bund', 'bundes', 'minister'], [1,2,3,4,5,6,7]))"
   ]
  },
  {
   "cell_type": "code",
   "execution_count": 4,
   "metadata": {},
   "outputs": [],
   "source": [
    "w = Word(word, wl)"
   ]
  },
  {
   "cell_type": "code",
   "execution_count": 8,
   "metadata": {},
   "outputs": [
    {
     "data": {
      "text/plain": [
       "{'word': 'bundesfinanzministerium',\n",
       " 'total_wordcount': 28,\n",
       " 'n_words': 7,\n",
       " 'candidates': [Term(bund, 0, 4),\n",
       "  Term(bunde, 0, 5),\n",
       "  Term(bundes, 0, 6),\n",
       "  Term(finanz, 6, 12),\n",
       "  Term(finanzministerium, 6, 23),\n",
       "  Term(minister, 12, 20),\n",
       "  Term(ministerium, 12, 23)]}"
      ]
     },
     "execution_count": 8,
     "metadata": {},
     "output_type": "execute_result"
    }
   ],
   "source": [
    "w.__dict__"
   ]
  },
  {
   "cell_type": "code",
   "execution_count": 10,
   "metadata": {},
   "outputs": [],
   "source": [
    "for candidate in w.candidates:\n",
    "    candidate.children = get_next(candidate, w.candidates)"
   ]
  },
  {
   "cell_type": "code",
   "execution_count": 11,
   "metadata": {},
   "outputs": [],
   "source": [
    "def printTree(root, level=0):\n",
    "    print(\"\\t\" * level + \"-\" * level, root)\n",
    "    for child in root.children:\n",
    "        printTree(child, level + 1)"
   ]
  },
  {
   "cell_type": "code",
   "execution_count": 12,
   "metadata": {},
   "outputs": [
    {
     "name": "stdout",
     "output_type": "stream",
     "text": [
      " Term(bund, 0, 4)\n",
      "\t- Term(finanz, 6, 12)\n",
      "\t\t-- Term(minister, 12, 20)\n",
      "\t\t-- Term(ministerium, 12, 23)\n",
      "\t- Term(finanzministerium, 6, 23)\n"
     ]
    }
   ],
   "source": [
    "printTree(w.candidates[0])"
   ]
  },
  {
   "cell_type": "code",
   "execution_count": 13,
   "metadata": {},
   "outputs": [
    {
     "name": "stdout",
     "output_type": "stream",
     "text": [
      " Term(bunde, 0, 5)\n",
      "\t- Term(finanz, 6, 12)\n",
      "\t\t-- Term(minister, 12, 20)\n",
      "\t\t-- Term(ministerium, 12, 23)\n",
      "\t- Term(finanzministerium, 6, 23)\n"
     ]
    }
   ],
   "source": [
    "printTree(w.candidates[1])"
   ]
  },
  {
   "cell_type": "code",
   "execution_count": 14,
   "metadata": {},
   "outputs": [
    {
     "name": "stdout",
     "output_type": "stream",
     "text": [
      " Term(bundes, 0, 6)\n",
      "\t- Term(finanz, 6, 12)\n",
      "\t\t-- Term(minister, 12, 20)\n",
      "\t\t-- Term(ministerium, 12, 23)\n",
      "\t- Term(finanzministerium, 6, 23)\n"
     ]
    }
   ],
   "source": [
    "printTree(w.candidates[2])"
   ]
  }
 ],
 "metadata": {
  "kernelspec": {
   "display_name": "spacy-env",
   "language": "python",
   "name": "spacy-env"
  },
  "language_info": {
   "codemirror_mode": {
    "name": "ipython",
    "version": 3
   },
   "file_extension": ".py",
   "mimetype": "text/x-python",
   "name": "python",
   "nbconvert_exporter": "python",
   "pygments_lexer": "ipython3",
   "version": "3.8.5"
  },
  "orig_nbformat": 4,
  "vscode": {
   "interpreter": {
    "hash": "31f2aee4e71d21fbe5cf8b01ff0e069b9275f58929596ceb00d14d90e3e16cd6"
   }
  }
 },
 "nbformat": 4,
 "nbformat_minor": 2
}
