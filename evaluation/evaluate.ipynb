{
 "cells": [
  {
   "cell_type": "code",
   "execution_count": 3,
   "metadata": {},
   "outputs": [
    {
     "name": "stdout",
     "output_type": "stream",
     "text": [
      "Obtaining file:///Users/mathiashaugestad/Documents/Projects/noun-decomposition/noun-decomposition\n",
      "  Preparing metadata (setup.py) ... \u001b[?25ldone\n",
      "\u001b[?25hRequirement already satisfied: scipy in /Users/mathiashaugestad/opt/anaconda3/envs/belief-network/lib/python3.10/site-packages (from noun-decomposition==0.0.1) (1.10.1)\n",
      "Requirement already satisfied: numpy in /Users/mathiashaugestad/opt/anaconda3/envs/belief-network/lib/python3.10/site-packages (from noun-decomposition==0.0.1) (1.24.3)\n",
      "Requirement already satisfied: pytest in /Users/mathiashaugestad/opt/anaconda3/envs/belief-network/lib/python3.10/site-packages (from noun-decomposition==0.0.1) (7.3.1)\n",
      "Requirement already satisfied: importlib-resources in /Users/mathiashaugestad/opt/anaconda3/envs/belief-network/lib/python3.10/site-packages (from noun-decomposition==0.0.1) (5.12.0)\n",
      "Requirement already satisfied: iniconfig in /Users/mathiashaugestad/opt/anaconda3/envs/belief-network/lib/python3.10/site-packages (from pytest->noun-decomposition==0.0.1) (2.0.0)\n",
      "Requirement already satisfied: packaging in /Users/mathiashaugestad/opt/anaconda3/envs/belief-network/lib/python3.10/site-packages (from pytest->noun-decomposition==0.0.1) (23.1)\n",
      "Requirement already satisfied: pluggy<2.0,>=0.12 in /Users/mathiashaugestad/opt/anaconda3/envs/belief-network/lib/python3.10/site-packages (from pytest->noun-decomposition==0.0.1) (1.0.0)\n",
      "Requirement already satisfied: exceptiongroup>=1.0.0rc8 in /Users/mathiashaugestad/opt/anaconda3/envs/belief-network/lib/python3.10/site-packages (from pytest->noun-decomposition==0.0.1) (1.1.1)\n",
      "Requirement already satisfied: tomli>=1.0.0 in /Users/mathiashaugestad/opt/anaconda3/envs/belief-network/lib/python3.10/site-packages (from pytest->noun-decomposition==0.0.1) (2.0.1)\n",
      "Installing collected packages: noun-decomposition\n",
      "  Attempting uninstall: noun-decomposition\n",
      "    Found existing installation: noun-decomposition 0.0.1\n",
      "    Uninstalling noun-decomposition-0.0.1:\n",
      "      Successfully uninstalled noun-decomposition-0.0.1\n",
      "  Running setup.py develop for noun-decomposition\n",
      "Successfully installed noun-decomposition-0.0.1\n"
     ]
    }
   ],
   "source": [
    "!pip install -e .. -U"
   ]
  },
  {
   "cell_type": "code",
   "execution_count": 1,
   "metadata": {},
   "outputs": [
    {
     "name": "stdout",
     "output_type": "stream",
     "text": [
      "Intel MKL WARNING: Support of Intel(R) Streaming SIMD Extensions 4.2 (Intel(R) SSE4.2) enabled only processors has been deprecated. Intel oneAPI Math Kernel Library 2025.0 will require Intel(R) Advanced Vector Extensions (Intel(R) AVX) instructions.\n",
      "Intel MKL WARNING: Support of Intel(R) Streaming SIMD Extensions 4.2 (Intel(R) SSE4.2) enabled only processors has been deprecated. Intel oneAPI Math Kernel Library 2025.0 will require Intel(R) Advanced Vector Extensions (Intel(R) AVX) instructions.\n"
     ]
    }
   ],
   "source": [
    "from Secos import Decomposition\n",
    "from tqdm import tqdm\n",
    "import pandas as pd"
   ]
  },
  {
   "cell_type": "code",
   "execution_count": 9,
   "metadata": {},
   "outputs": [
    {
     "name": "stderr",
     "output_type": "stream",
     "text": [
      "100%|██████████| 24.0M/24.0M [00:06<00:00, 3.96MB/s]"
     ]
    },
    {
     "name": "stdout",
     "output_type": "stream",
     "text": [
      "Download completed!\n"
     ]
    },
    {
     "name": "stderr",
     "output_type": "stream",
     "text": [
      "\n"
     ]
    }
   ],
   "source": [
    "Decomposition.download_model('de')"
   ]
  },
  {
   "cell_type": "code",
   "execution_count": 2,
   "metadata": {},
   "outputs": [],
   "source": [
    "model = Decomposition.load_model('de')"
   ]
  },
  {
   "cell_type": "code",
   "execution_count": 3,
   "metadata": {},
   "outputs": [
    {
     "data": {
      "text/plain": [
       "DecompoundingModel(German)"
      ]
     },
     "execution_count": 3,
     "metadata": {},
     "output_type": "execute_result"
    }
   ],
   "source": [
    "model"
   ]
  },
  {
   "cell_type": "code",
   "execution_count": 4,
   "metadata": {},
   "outputs": [],
   "source": [
    "secos = Decomposition(model)"
   ]
  },
  {
   "cell_type": "code",
   "execution_count": 6,
   "metadata": {},
   "outputs": [
    {
     "data": {
      "text/plain": [
       "['bundes', 'finanz', 'ministerium']"
      ]
     },
     "execution_count": 6,
     "metadata": {},
     "output_type": "execute_result"
    }
   ],
   "source": [
    "secos.decompose(\"Bundesfinanzministerium\")"
   ]
  },
  {
   "cell_type": "code",
   "execution_count": 9,
   "metadata": {},
   "outputs": [],
   "source": [
    "with open('./german_wictionary.txt','r') as f:\n",
    "    evaluation_data = {}\n",
    "    for i, line in enumerate(f.read().splitlines()):\n",
    "        word, splits = line.split('\\t')[0:2]\n",
    "        evaluation_data[word] = set(splits.split('-'))"
   ]
  },
  {
   "cell_type": "code",
   "execution_count": 11,
   "metadata": {},
   "outputs": [
    {
     "data": {
      "text/plain": [
       "'Precision and Recall are defined as usual: Precision is obtained by dividing\\nthe number of correct splits by the number of splits taken by the method, recall is\\nthe number of correct splits divided by the total number of splits in the evaluation\\nset. We further report results in the F1 measure, which is the harmonic mean of\\nPrecision and Recall.'"
      ]
     },
     "execution_count": 11,
     "metadata": {},
     "output_type": "execute_result"
    }
   ],
   "source": [
    "\"\"\"\\\n",
    "Precision and Recall are defined as usual: Precision is obtained by dividing\n",
    "the number of correct splits by the number of splits taken by the method, recall is\n",
    "the number of correct splits divided by the total number of splits in the evaluation\n",
    "set. We further report results in the F1 measure, which is the harmonic mean of\n",
    "Precision and Recall.\\\n",
    "\"\"\""
   ]
  },
  {
   "cell_type": "code",
   "execution_count": 25,
   "metadata": {},
   "outputs": [
    {
     "name": "stderr",
     "output_type": "stream",
     "text": [
      "  0%|          | 0/5688 [00:00<?, ?it/s]/Users/mathiashaugestad/opt/anaconda3/lib/python3.8/site-packages/scipy/stats/stats.py:411: RuntimeWarning: Mean of empty slice.\n",
      "  return np.exp(log_a.mean(axis=axis))\n",
      "/Users/mathiashaugestad/opt/anaconda3/lib/python3.8/site-packages/numpy/core/_methods.py:189: RuntimeWarning: invalid value encountered in double_scalars\n",
      "  ret = ret.dtype.type(ret / rcount)\n",
      "100%|██████████| 5688/5688 [00:00<00:00, 40441.69it/s]\n"
     ]
    }
   ],
   "source": [
    "results = []\n",
    "for key, item in tqdm(evaluation_data.items()):\n",
    "    preds = set(secos.decompose(key))\n",
    "    results.append(\n",
    "        {'word': key,\n",
    "         'predicted': preds,\n",
    "         'correct_splits': len(preds.intersection(item)),\n",
    "         'compound_wrong_split': len(item.difference(preds)),\n",
    "         'compound_not_split': len(preds.difference(item))\n",
    "        }\n",
    "    )"
   ]
  },
  {
   "cell_type": "code",
   "execution_count": 26,
   "metadata": {},
   "outputs": [
    {
     "data": {
      "text/html": [
       "<div>\n",
       "<style scoped>\n",
       "    .dataframe tbody tr th:only-of-type {\n",
       "        vertical-align: middle;\n",
       "    }\n",
       "\n",
       "    .dataframe tbody tr th {\n",
       "        vertical-align: top;\n",
       "    }\n",
       "\n",
       "    .dataframe thead th {\n",
       "        text-align: right;\n",
       "    }\n",
       "</style>\n",
       "<table border=\"1\" class=\"dataframe\">\n",
       "  <thead>\n",
       "    <tr style=\"text-align: right;\">\n",
       "      <th></th>\n",
       "      <th>word</th>\n",
       "      <th>predicted</th>\n",
       "      <th>correct_splits</th>\n",
       "      <th>compound_wrong_split</th>\n",
       "      <th>compound_not_split</th>\n",
       "    </tr>\n",
       "  </thead>\n",
       "  <tbody>\n",
       "    <tr>\n",
       "      <th>0</th>\n",
       "      <td>Aalfang</td>\n",
       "      <td>{Aalfang}</td>\n",
       "      <td>0</td>\n",
       "      <td>2</td>\n",
       "      <td>1</td>\n",
       "    </tr>\n",
       "    <tr>\n",
       "      <th>1</th>\n",
       "      <td>Aalfell</td>\n",
       "      <td>{Aalfell}</td>\n",
       "      <td>0</td>\n",
       "      <td>2</td>\n",
       "      <td>1</td>\n",
       "    </tr>\n",
       "    <tr>\n",
       "      <th>2</th>\n",
       "      <td>Aalfett</td>\n",
       "      <td>{Aalfett}</td>\n",
       "      <td>0</td>\n",
       "      <td>2</td>\n",
       "      <td>1</td>\n",
       "    </tr>\n",
       "    <tr>\n",
       "      <th>3</th>\n",
       "      <td>Aalhaut</td>\n",
       "      <td>{Aalhaut}</td>\n",
       "      <td>0</td>\n",
       "      <td>2</td>\n",
       "      <td>1</td>\n",
       "    </tr>\n",
       "    <tr>\n",
       "      <th>4</th>\n",
       "      <td>Aalmolch</td>\n",
       "      <td>{Aalmolch}</td>\n",
       "      <td>0</td>\n",
       "      <td>2</td>\n",
       "      <td>1</td>\n",
       "    </tr>\n",
       "    <tr>\n",
       "      <th>...</th>\n",
       "      <td>...</td>\n",
       "      <td>...</td>\n",
       "      <td>...</td>\n",
       "      <td>...</td>\n",
       "      <td>...</td>\n",
       "    </tr>\n",
       "    <tr>\n",
       "      <th>5683</th>\n",
       "      <td>Zwetschgendatschi</td>\n",
       "      <td>{Zwetschgendatschi}</td>\n",
       "      <td>0</td>\n",
       "      <td>2</td>\n",
       "      <td>1</td>\n",
       "    </tr>\n",
       "    <tr>\n",
       "      <th>5684</th>\n",
       "      <td>Zwiebelfisch</td>\n",
       "      <td>{fisch, Zwiebel}</td>\n",
       "      <td>2</td>\n",
       "      <td>0</td>\n",
       "      <td>0</td>\n",
       "    </tr>\n",
       "    <tr>\n",
       "      <th>5685</th>\n",
       "      <td>Zwischenprodukt</td>\n",
       "      <td>{produkt, Zwischen}</td>\n",
       "      <td>2</td>\n",
       "      <td>0</td>\n",
       "      <td>0</td>\n",
       "    </tr>\n",
       "    <tr>\n",
       "      <th>5686</th>\n",
       "      <td>Zwischenschicht</td>\n",
       "      <td>{schicht, Zwischen}</td>\n",
       "      <td>2</td>\n",
       "      <td>0</td>\n",
       "      <td>0</td>\n",
       "    </tr>\n",
       "    <tr>\n",
       "      <th>5687</th>\n",
       "      <td>Zwischenstufe</td>\n",
       "      <td>{stufe, Zwischen}</td>\n",
       "      <td>2</td>\n",
       "      <td>0</td>\n",
       "      <td>0</td>\n",
       "    </tr>\n",
       "  </tbody>\n",
       "</table>\n",
       "<p>5688 rows × 5 columns</p>\n",
       "</div>"
      ],
      "text/plain": [
       "                   word            predicted  correct_splits  \\\n",
       "0               Aalfang            {Aalfang}               0   \n",
       "1               Aalfell            {Aalfell}               0   \n",
       "2               Aalfett            {Aalfett}               0   \n",
       "3               Aalhaut            {Aalhaut}               0   \n",
       "4              Aalmolch           {Aalmolch}               0   \n",
       "...                 ...                  ...             ...   \n",
       "5683  Zwetschgendatschi  {Zwetschgendatschi}               0   \n",
       "5684       Zwiebelfisch     {fisch, Zwiebel}               2   \n",
       "5685    Zwischenprodukt  {produkt, Zwischen}               2   \n",
       "5686    Zwischenschicht  {schicht, Zwischen}               2   \n",
       "5687      Zwischenstufe    {stufe, Zwischen}               2   \n",
       "\n",
       "      compound_wrong_split  compound_not_split  \n",
       "0                        2                   1  \n",
       "1                        2                   1  \n",
       "2                        2                   1  \n",
       "3                        2                   1  \n",
       "4                        2                   1  \n",
       "...                    ...                 ...  \n",
       "5683                     2                   1  \n",
       "5684                     0                   0  \n",
       "5685                     0                   0  \n",
       "5686                     0                   0  \n",
       "5687                     0                   0  \n",
       "\n",
       "[5688 rows x 5 columns]"
      ]
     },
     "execution_count": 26,
     "metadata": {},
     "output_type": "execute_result"
    }
   ],
   "source": [
    "df = pd.DataFrame(results)\n",
    "df"
   ]
  },
  {
   "cell_type": "code",
   "execution_count": 31,
   "metadata": {},
   "outputs": [
    {
     "data": {
      "text/plain": [
       "1.0"
      ]
     },
     "execution_count": 31,
     "metadata": {},
     "output_type": "execute_result"
    }
   ],
   "source": [
    "df.correct_splits.sum() / (df.correct_splits.sum() + df.query('compound_not_split == 0').compound_wrong_split.sum())"
   ]
  },
  {
   "cell_type": "code",
   "execution_count": 8,
   "metadata": {},
   "outputs": [
    {
     "data": {
      "text/html": [
       "<div>\n",
       "<style scoped>\n",
       "    .dataframe tbody tr th:only-of-type {\n",
       "        vertical-align: middle;\n",
       "    }\n",
       "\n",
       "    .dataframe tbody tr th {\n",
       "        vertical-align: top;\n",
       "    }\n",
       "\n",
       "    .dataframe thead th {\n",
       "        text-align: right;\n",
       "    }\n",
       "</style>\n",
       "<table border=\"1\" class=\"dataframe\">\n",
       "  <thead>\n",
       "    <tr style=\"text-align: right;\">\n",
       "      <th></th>\n",
       "      <th>word</th>\n",
       "      <th>correct_split</th>\n",
       "      <th>predicted</th>\n",
       "      <th>correct</th>\n",
       "    </tr>\n",
       "  </thead>\n",
       "  <tbody>\n",
       "    <tr>\n",
       "      <th>2213</th>\n",
       "      <td>Jammertal</td>\n",
       "      <td>[Jammer, tal]</td>\n",
       "      <td>[Jammertal]</td>\n",
       "      <td>0</td>\n",
       "    </tr>\n",
       "    <tr>\n",
       "      <th>515</th>\n",
       "      <td>Betriebssystemkern</td>\n",
       "      <td>[Betriebssystem, kern]</td>\n",
       "      <td>[Betriebssystemkern]</td>\n",
       "      <td>0</td>\n",
       "    </tr>\n",
       "    <tr>\n",
       "      <th>1</th>\n",
       "      <td>Aalfell</td>\n",
       "      <td>[Aal, fell]</td>\n",
       "      <td>[Aalfell]</td>\n",
       "      <td>0</td>\n",
       "    </tr>\n",
       "    <tr>\n",
       "      <th>1564</th>\n",
       "      <td>Gammastrahl</td>\n",
       "      <td>[Gamma, strahl]</td>\n",
       "      <td>[Gammastrahl]</td>\n",
       "      <td>0</td>\n",
       "    </tr>\n",
       "    <tr>\n",
       "      <th>2531</th>\n",
       "      <td>Kopfgeld</td>\n",
       "      <td>[Kopf, geld]</td>\n",
       "      <td>[Kopfgeld]</td>\n",
       "      <td>0</td>\n",
       "    </tr>\n",
       "    <tr>\n",
       "      <th>4775</th>\n",
       "      <td>Strahlenschutzkleidung</td>\n",
       "      <td>[Strahlenschutz, kleidung]</td>\n",
       "      <td>[Strahlen, schutz, kleidung]</td>\n",
       "      <td>0</td>\n",
       "    </tr>\n",
       "    <tr>\n",
       "      <th>3992</th>\n",
       "      <td>Roheisen</td>\n",
       "      <td>[Roh, eisen]</td>\n",
       "      <td>[Roheisen]</td>\n",
       "      <td>0</td>\n",
       "    </tr>\n",
       "    <tr>\n",
       "      <th>5253</th>\n",
       "      <td>Waldeinsamkeit</td>\n",
       "      <td>[Wald, einsamkeit]</td>\n",
       "      <td>[Waldeinsamkeit]</td>\n",
       "      <td>0</td>\n",
       "    </tr>\n",
       "    <tr>\n",
       "      <th>301</th>\n",
       "      <td>Atomenergie</td>\n",
       "      <td>[Atom, energie]</td>\n",
       "      <td>[Atomenergie]</td>\n",
       "      <td>0</td>\n",
       "    </tr>\n",
       "    <tr>\n",
       "      <th>5613</th>\n",
       "      <td>Zinkselenid</td>\n",
       "      <td>[Zink, selenid]</td>\n",
       "      <td>[Zinkselenid]</td>\n",
       "      <td>0</td>\n",
       "    </tr>\n",
       "  </tbody>\n",
       "</table>\n",
       "</div>"
      ],
      "text/plain": [
       "                        word               correct_split  \\\n",
       "2213               Jammertal               [Jammer, tal]   \n",
       "515       Betriebssystemkern      [Betriebssystem, kern]   \n",
       "1                    Aalfell                 [Aal, fell]   \n",
       "1564             Gammastrahl             [Gamma, strahl]   \n",
       "2531                Kopfgeld                [Kopf, geld]   \n",
       "4775  Strahlenschutzkleidung  [Strahlenschutz, kleidung]   \n",
       "3992                Roheisen                [Roh, eisen]   \n",
       "5253          Waldeinsamkeit          [Wald, einsamkeit]   \n",
       "301              Atomenergie             [Atom, energie]   \n",
       "5613             Zinkselenid             [Zink, selenid]   \n",
       "\n",
       "                         predicted  correct  \n",
       "2213                   [Jammertal]        0  \n",
       "515           [Betriebssystemkern]        0  \n",
       "1                        [Aalfell]        0  \n",
       "1564                 [Gammastrahl]        0  \n",
       "2531                    [Kopfgeld]        0  \n",
       "4775  [Strahlen, schutz, kleidung]        0  \n",
       "3992                    [Roheisen]        0  \n",
       "5253              [Waldeinsamkeit]        0  \n",
       "301                  [Atomenergie]        0  \n",
       "5613                 [Zinkselenid]        0  "
      ]
     },
     "execution_count": 8,
     "metadata": {},
     "output_type": "execute_result"
    }
   ],
   "source": [
    "p = 1.0*k[0]/(1.0*k[0]+k[1])\n",
    "r = 1.0*k[0]/(1.0*k[0]+k[1]+k[2])\n",
    "f = 2*p*r/(p+r)"
   ]
  },
  {
   "cell_type": "code",
   "execution_count": 9,
   "metadata": {},
   "outputs": [
    {
     "data": {
      "text/plain": [
       "0.6216596343178622"
      ]
     },
     "execution_count": 9,
     "metadata": {},
     "output_type": "execute_result"
    }
   ],
   "source": [
    "# How many words does it try to split?\n",
    "recall = df.predicted.apply(lambda x: len(x) > 1).sum() / len(df)\n",
    "recall"
   ]
  },
  {
   "cell_type": "code",
   "execution_count": 10,
   "metadata": {},
   "outputs": [
    {
     "data": {
      "text/plain": [
       "0.7890271493212669"
      ]
     },
     "execution_count": 10,
     "metadata": {},
     "output_type": "execute_result"
    }
   ],
   "source": [
    "# When it splits a word, how often does it get it right?\n",
    "precision = df[df.predicted.apply(lambda x: len(x) > 1)].correct.sum() / len(df[df.predicted.apply(lambda x: len(x) > 1)])\n",
    "precision"
   ]
  },
  {
   "cell_type": "code",
   "execution_count": 11,
   "metadata": {},
   "outputs": [
    {
     "data": {
      "text/plain": [
       "0.6954149351971267"
      ]
     },
     "execution_count": 11,
     "metadata": {},
     "output_type": "execute_result"
    }
   ],
   "source": [
    "f1 = (2 * precision * recall) / (precision + recall)\n",
    "f1"
   ]
  },
  {
   "cell_type": "code",
   "execution_count": null,
   "metadata": {},
   "outputs": [],
   "source": []
  },
  {
   "cell_type": "code",
   "execution_count": 12,
   "metadata": {},
   "outputs": [
    {
     "data": {
      "text/html": [
       "<div>\n",
       "<style scoped>\n",
       "    .dataframe tbody tr th:only-of-type {\n",
       "        vertical-align: middle;\n",
       "    }\n",
       "\n",
       "    .dataframe tbody tr th {\n",
       "        vertical-align: top;\n",
       "    }\n",
       "\n",
       "    .dataframe thead th {\n",
       "        text-align: right;\n",
       "    }\n",
       "</style>\n",
       "<table border=\"1\" class=\"dataframe\">\n",
       "  <thead>\n",
       "    <tr style=\"text-align: right;\">\n",
       "      <th></th>\n",
       "      <th>word</th>\n",
       "      <th>correct_split</th>\n",
       "      <th>predicted</th>\n",
       "      <th>correct</th>\n",
       "      <th>gold</th>\n",
       "      <th>preds</th>\n",
       "    </tr>\n",
       "  </thead>\n",
       "  <tbody>\n",
       "    <tr>\n",
       "      <th>0</th>\n",
       "      <td>Aalfang</td>\n",
       "      <td>[Aal, fang]</td>\n",
       "      <td>[Aalfang]</td>\n",
       "      <td>0</td>\n",
       "      <td>Aal-fang</td>\n",
       "      <td>Aalfang</td>\n",
       "    </tr>\n",
       "    <tr>\n",
       "      <th>1</th>\n",
       "      <td>Aalfell</td>\n",
       "      <td>[Aal, fell]</td>\n",
       "      <td>[Aalfell]</td>\n",
       "      <td>0</td>\n",
       "      <td>Aal-fell</td>\n",
       "      <td>Aalfell</td>\n",
       "    </tr>\n",
       "    <tr>\n",
       "      <th>2</th>\n",
       "      <td>Aalfett</td>\n",
       "      <td>[Aal, fett]</td>\n",
       "      <td>[Aalfett]</td>\n",
       "      <td>0</td>\n",
       "      <td>Aal-fett</td>\n",
       "      <td>Aalfett</td>\n",
       "    </tr>\n",
       "    <tr>\n",
       "      <th>3</th>\n",
       "      <td>Aalhaut</td>\n",
       "      <td>[Aal, haut]</td>\n",
       "      <td>[Aalhaut]</td>\n",
       "      <td>0</td>\n",
       "      <td>Aal-haut</td>\n",
       "      <td>Aalhaut</td>\n",
       "    </tr>\n",
       "    <tr>\n",
       "      <th>4</th>\n",
       "      <td>Aalmolch</td>\n",
       "      <td>[Aal, molch]</td>\n",
       "      <td>[Aalmolch]</td>\n",
       "      <td>0</td>\n",
       "      <td>Aal-molch</td>\n",
       "      <td>Aalmolch</td>\n",
       "    </tr>\n",
       "  </tbody>\n",
       "</table>\n",
       "</div>"
      ],
      "text/plain": [
       "       word correct_split   predicted  correct       gold     preds\n",
       "0   Aalfang   [Aal, fang]   [Aalfang]        0   Aal-fang   Aalfang\n",
       "1   Aalfell   [Aal, fell]   [Aalfell]        0   Aal-fell   Aalfell\n",
       "2   Aalfett   [Aal, fett]   [Aalfett]        0   Aal-fett   Aalfett\n",
       "3   Aalhaut   [Aal, haut]   [Aalhaut]        0   Aal-haut   Aalhaut\n",
       "4  Aalmolch  [Aal, molch]  [Aalmolch]        0  Aal-molch  Aalmolch"
      ]
     },
     "execution_count": 12,
     "metadata": {},
     "output_type": "execute_result"
    }
   ],
   "source": [
    "df['gold'] = df.correct_split.apply(lambda x: \"-\".join(x))\n",
    "df['preds'] = df.predicted.apply(lambda x: \"-\".join(x))\n",
    "\n",
    "df.head()"
   ]
  },
  {
   "cell_type": "code",
   "execution_count": 12,
   "metadata": {},
   "outputs": [],
   "source": [
    "df[['preds', 'gold']].to_csv('eval_file_generated_70M', sep='\\t', header=False, index=False)"
   ]
  },
  {
   "cell_type": "code",
   "execution_count": 17,
   "metadata": {},
   "outputs": [],
   "source": [
    "with open('compounds_wictionary', 'w') as f:\n",
    "    for line in df.word.tolist():\n",
    "        f.write(line + '\\n')"
   ]
  },
  {
   "cell_type": "code",
   "execution_count": null,
   "metadata": {},
   "outputs": [],
   "source": []
  }
 ],
 "metadata": {
  "kernelspec": {
   "display_name": "Python 3.8.5 ('base')",
   "language": "python",
   "name": "python3"
  },
  "language_info": {
   "codemirror_mode": {
    "name": "ipython",
    "version": 3
   },
   "file_extension": ".py",
   "mimetype": "text/x-python",
   "name": "python",
   "nbconvert_exporter": "python",
   "pygments_lexer": "ipython3",
   "version": "3.10.11"
  },
  "orig_nbformat": 4,
  "vscode": {
   "interpreter": {
    "hash": "ff4d151e5aa95e1153eb3b13a0b3af920f4d3e459b90b93576523291a566331d"
   }
  }
 },
 "nbformat": 4,
 "nbformat_minor": 2
}
